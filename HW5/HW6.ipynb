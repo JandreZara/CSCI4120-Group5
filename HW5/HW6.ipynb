{
 "cells": [
  {
   "cell_type": "markdown",
   "metadata": {},
   "source": [
    "# Homework 6 RF Accuracy Improvement\n",
    "\n",
    "This assignment is inspired by examples of Shan-Hung Wu from National Tsing Hua University.\n",
    "\n",
    "Requirement: improve the accuracy per feature of the following code from 0.03 up to at least 0.40 and accuracy should be more than 0.92\n",
    "\n",
    "Here are three hints:\n",
    "\n",
    "    You can improve the ratio by picking out or \"creating\" several features.\n",
    "    Tune hyperparameters\n",
    "    The ratio can be improved from 0.03 up to 0.47."
   ]
  },
  {
   "cell_type": "code",
   "execution_count": 55,
   "metadata": {},
   "outputs": [
    {
     "name": "stdout",
     "output_type": "stream",
     "text": [
      "[[1.799e+01 1.038e+01 1.228e+02 ... 2.654e-01 4.601e-01 1.189e-01]\n",
      " [2.057e+01 1.777e+01 1.329e+02 ... 1.860e-01 2.750e-01 8.902e-02]\n",
      " [1.969e+01 2.125e+01 1.300e+02 ... 2.430e-01 3.613e-01 8.758e-02]\n",
      " ...\n",
      " [1.660e+01 2.808e+01 1.083e+02 ... 1.418e-01 2.218e-01 7.820e-02]\n",
      " [2.060e+01 2.933e+01 1.401e+02 ... 2.650e-01 4.087e-01 1.240e-01]\n",
      " [7.760e+00 2.454e+01 4.792e+01 ... 0.000e+00 2.871e-01 7.039e-02]]\n",
      "4254.0\n",
      "0.0\n",
      "dict_keys(['bootstrap', 'ccp_alpha', 'class_weight', 'criterion', 'max_depth', 'max_features', 'max_leaf_nodes', 'max_samples', 'min_impurity_decrease', 'min_impurity_split', 'min_samples_leaf', 'min_samples_split', 'min_weight_fraction_leaf', 'n_estimators', 'n_jobs', 'oob_score', 'random_state', 'verbose', 'warm_start'])\n",
      "0.9631268436578171\n",
      "{'n_estimators': 36, 'max_features': 1}\n",
      "Accuracy: 0.965034965034965\n",
      "Average Accuracy: 0.4825174825174825\n"
     ]
    }
   ],
   "source": [
    "from sklearn.model_selection import train_test_split\n",
    "from sklearn.datasets import load_breast_cancer\n",
    "from sklearn import metrics\n",
    "from sklearn.model_selection import cross_val_score\n",
    "from sklearn.ensemble import RandomForestClassifier\n",
    "from sklearn.ensemble import RandomForestRegressor\n",
    "from sklearn.model_selection import RandomizedSearchCV\n",
    "\n",
    "import numpy as np\n",
    "\n",
    "\n",
    "# load the breast_cancer dataset\n",
    "init_data = load_breast_cancer()\n",
    "\n",
    "(X, y) = load_breast_cancer(return_X_y=True)\n",
    "\n",
    "print(X)\n",
    "print(np.max(X))\n",
    "print(np.min(X))\n",
    "\n",
    "# TODO Select some features (X), hint: based on the connections with\n",
    "# our Y (importance? correlation?)\n",
    "Xtrain, Xtest, ytrain, ytest = train_test_split(X, y,\n",
    "                                                random_state=0)\n",
    "\n",
    "model = RandomForestClassifier()\n",
    "model.fit(Xtrain, ytrain)\n",
    "ypred = model.predict(Xtest)\n",
    "\n",
    "print(model.get_params().keys())\n",
    "\n",
    "# TODO need 5 fold cross validation\n",
    "\n",
    "scores = cross_val_score(model, X, y, cv=5)\n",
    "print(scores.mean())\n",
    "\n",
    "# TODO Tune parameters for RandomForestClassifier\n",
    "rng = np.random.randint(10, 200)\n",
    "\n",
    "parameters = {'n_estimators':[rng], 'max_features':[1, 2]}\n",
    "\n",
    "rfcTune = RandomizedSearchCV(model, parameters, cv = 10, n_iter=2)\n",
    "rfcMod = rfcTune.fit(Xtrain, ytrain)\n",
    "print(rfcMod.best_params_)\n",
    "\n",
    "newModel = RandomForestClassifier(**rfcMod.best_params_)\n",
    "newModel.fit(Xtrain, ytrain)\n",
    "newYpred = model.predict(Xtest)\n",
    "\n",
    "# TODO Calculate Average accuracy score\n",
    "\n",
    "print(\"Accuracy:\", metrics.accuracy_score(ytest, newYpred))\n",
    "\n",
    "# TODO Calculate Average (accuracy score/number of features)\n",
    "\n",
    "print(\"Average Accuracy:\", metrics.accuracy_score(ytest, newYpred)/2)\n",
    "\n"
   ]
  },
  {
   "cell_type": "code",
   "execution_count": null,
   "metadata": {},
   "outputs": [],
   "source": []
  }
 ],
 "metadata": {
  "kernelspec": {
   "display_name": "Python 3",
   "language": "python",
   "name": "python3"
  },
  "language_info": {
   "codemirror_mode": {
    "name": "ipython",
    "version": 3
   },
   "file_extension": ".py",
   "mimetype": "text/x-python",
   "name": "python",
   "nbconvert_exporter": "python",
   "pygments_lexer": "ipython3",
   "version": "3.6.9"
  }
 },
 "nbformat": 4,
 "nbformat_minor": 2
}
