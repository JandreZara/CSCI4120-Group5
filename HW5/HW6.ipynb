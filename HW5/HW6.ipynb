{
 "cells": [
  {
   "cell_type": "markdown",
   "metadata": {},
   "source": [
    "# Homework 6 RF Accuracy Improvement\n",
    "\n",
    "This assignment is inspired by examples of Shan-Hung Wu from National Tsing Hua University.\n",
    "\n",
    "Requirement: improve the accuracy per feature of the following code from 0.03 up to at least 0.40 and accuracy should be more than 0.92\n",
    "\n",
    "Here are three hints:\n",
    "\n",
    "    You can improve the ratio by picking out or \"creating\" several features.\n",
    "    Tune hyperparameters\n",
    "    The ratio can be improved from 0.03 up to 0.47."
   ]
  },
  {
   "cell_type": "code",
   "execution_count": 63,
   "metadata": {},
   "outputs": [
    {
     "name": "stdout",
     "output_type": "stream",
     "text": [
      "(569, 30)\n",
      "dict_keys(['bootstrap', 'ccp_alpha', 'class_weight', 'criterion', 'max_depth', 'max_features', 'max_leaf_nodes', 'max_samples', 'min_impurity_decrease', 'min_impurity_split', 'min_samples_leaf', 'min_samples_split', 'min_weight_fraction_leaf', 'n_estimators', 'n_jobs', 'oob_score', 'random_state', 'verbose', 'warm_start'])\n",
      "0.9613569321533924\n",
      "{'n_estimators': 140, 'max_features': 2}\n",
      "Accuracy: 0.951048951048951\n",
      "Average Accuracy: 0.4755244755244755\n"
     ]
    }
   ],
   "source": [
    "from sklearn.model_selection import train_test_split\n",
    "from sklearn.datasets import load_breast_cancer\n",
    "from sklearn import metrics\n",
    "from sklearn.model_selection import cross_val_score\n",
    "from sklearn.ensemble import RandomForestClassifier\n",
    "from sklearn.ensemble import RandomForestRegressor\n",
    "from sklearn.model_selection import RandomizedSearchCV\n",
    "\n",
    "import numpy as np\n",
    "\n",
    "\n",
    "# load the breast_cancer dataset\n",
    "init_data = load_breast_cancer()\n",
    "\n",
    "(X, y) = load_breast_cancer(return_X_y=True)\n",
    "\n",
    "print(X.shape)\n",
    "\n",
    "# TODO Select some features (X), hint: based on the connections with\n",
    "# our Y (importance? correlation?)\n",
    "Xtrain, Xtest, ytrain, ytest = train_test_split(X, y,\n",
    "                                                random_state=0)\n",
    "model = RandomForestClassifier()\n",
    "\n",
    "print(model.get_params().keys())\n",
    "\n",
    "# TODO need 5 fold cross validation\n",
    "\n",
    "scores = cross_val_score(model, X, y, cv=5)\n",
    "print(scores.mean())\n",
    "\n",
    "# TODO Tune parameters for RandomForestClassifier\n",
    "rng = np.random.randint(10, 200, size = 10)\n",
    "\n",
    "parameters = {'n_estimators':rng, 'max_features':[2, 4]}\n",
    "\n",
    "rfcTune = RandomizedSearchCV(model, parameters, cv = 10, n_iter=10)\n",
    "rfcMod = rfcTune.fit(Xtrain, ytrain)\n",
    "print(rfcMod.best_params_)\n",
    "\n",
    "newModel = RandomForestClassifier(**rfcMod.best_params_)\n",
    "newModel.fit(Xtrain, ytrain)\n",
    "newYpred = newModel.predict(Xtest)\n",
    "\n",
    "# TODO Calculate Average accuracy score\n",
    "\n",
    "print(\"Accuracy:\", metrics.accuracy_score(ytest, newYpred))\n",
    "\n",
    "# TODO Calculate Average (accuracy score/number of features)\n",
    "\n",
    "print(\"Average Accuracy:\", metrics.accuracy_score(ytest, newYpred)/2)\n",
    "\n"
   ]
  },
  {
   "cell_type": "code",
   "execution_count": null,
   "metadata": {},
   "outputs": [],
   "source": []
  }
 ],
 "metadata": {
  "kernelspec": {
   "display_name": "Python 3",
   "language": "python",
   "name": "python3"
  },
  "language_info": {
   "codemirror_mode": {
    "name": "ipython",
    "version": 3
   },
   "file_extension": ".py",
   "mimetype": "text/x-python",
   "name": "python",
   "nbconvert_exporter": "python",
   "pygments_lexer": "ipython3",
   "version": "3.6.9"
  }
 },
 "nbformat": 4,
 "nbformat_minor": 2
}
